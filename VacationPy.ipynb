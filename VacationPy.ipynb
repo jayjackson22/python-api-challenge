{
 "cells": [
  {
   "cell_type": "code",
   "execution_count": 207,
   "metadata": {},
   "outputs": [],
   "source": [
    "# Dependencies and Setup\n",
    "import matplotlib.pyplot as plt\n",
    "import pandas as pd\n",
    "import numpy as np\n",
    "import requests\n",
    "import gmaps\n",
    "import os\n",
    "\n",
    "# Import API key\n",
    "from api_keys import g_key\n",
    "gmaps.configure(api_key=g_key)"
   ]
  },
  {
   "cell_type": "code",
   "execution_count": 208,
   "metadata": {},
   "outputs": [],
   "source": [
    "#Load CSV from part 1 to dataframe\n",
    "weather_df = pd.read_csv('output_data/cities.csv')\n"
   ]
  },
  {
   "cell_type": "code",
   "execution_count": 252,
   "metadata": {
    "scrolled": true
   },
   "outputs": [
    {
     "data": {
      "application/vnd.jupyter.widget-view+json": {
       "model_id": "e28819e23fb44ccf8017e94b0e99d543",
       "version_major": 2,
       "version_minor": 0
      },
      "text/plain": [
       "Figure(layout=FigureLayout(height='500px', width='600x'))"
      ]
     },
     "metadata": {},
     "output_type": "display_data"
    }
   ],
   "source": [
    "#Humidity Heat Map\n",
    "fig = gmaps.figure(layout={'width': '600x', 'height': '500px'})\n",
    "\n",
    "locations = weather_df[['Lat','Lng']]\n",
    "humidity = weather_df['Humidity']\n",
    "\n",
    "heat_layer = gmaps.heatmap_layer(locations, weights=humidity, dissipating=False, max_intensity=100, point_radius=3)\n",
    "\n",
    "fig.add_layer(heat_layer)\n",
    "fig"
   ]
  },
  {
   "cell_type": "code",
   "execution_count": 253,
   "metadata": {},
   "outputs": [
    {
     "name": "stdout",
     "output_type": "stream",
     "text": [
      "4\n"
     ]
    },
    {
     "data": {
      "text/html": [
       "<div>\n",
       "<style scoped>\n",
       "    .dataframe tbody tr th:only-of-type {\n",
       "        vertical-align: middle;\n",
       "    }\n",
       "\n",
       "    .dataframe tbody tr th {\n",
       "        vertical-align: top;\n",
       "    }\n",
       "\n",
       "    .dataframe thead th {\n",
       "        text-align: right;\n",
       "    }\n",
       "</style>\n",
       "<table border=\"1\" class=\"dataframe\">\n",
       "  <thead>\n",
       "    <tr style=\"text-align: right;\">\n",
       "      <th></th>\n",
       "      <th>City</th>\n",
       "      <th>Lat</th>\n",
       "      <th>Lng</th>\n",
       "      <th>Max Temp</th>\n",
       "      <th>Humidity</th>\n",
       "      <th>Cloudiness</th>\n",
       "      <th>Wind Speed</th>\n",
       "      <th>Country</th>\n",
       "      <th>Date</th>\n",
       "    </tr>\n",
       "  </thead>\n",
       "  <tbody>\n",
       "    <tr>\n",
       "      <th>25</th>\n",
       "      <td>huanren</td>\n",
       "      <td>41.26</td>\n",
       "      <td>125.37</td>\n",
       "      <td>83.75</td>\n",
       "      <td>56</td>\n",
       "      <td>77</td>\n",
       "      <td>2.17</td>\n",
       "      <td>CN</td>\n",
       "      <td>2020-08-29 21:36</td>\n",
       "    </tr>\n",
       "    <tr>\n",
       "      <th>55</th>\n",
       "      <td>nazas</td>\n",
       "      <td>25.23</td>\n",
       "      <td>-104.13</td>\n",
       "      <td>81.23</td>\n",
       "      <td>42</td>\n",
       "      <td>100</td>\n",
       "      <td>4.05</td>\n",
       "      <td>MX</td>\n",
       "      <td>2020-08-29 21:36</td>\n",
       "    </tr>\n",
       "    <tr>\n",
       "      <th>110</th>\n",
       "      <td>airai</td>\n",
       "      <td>-8.93</td>\n",
       "      <td>125.41</td>\n",
       "      <td>74.93</td>\n",
       "      <td>43</td>\n",
       "      <td>86</td>\n",
       "      <td>4.92</td>\n",
       "      <td>TL</td>\n",
       "      <td>2020-08-29 21:37</td>\n",
       "    </tr>\n",
       "    <tr>\n",
       "      <th>165</th>\n",
       "      <td>riyadh</td>\n",
       "      <td>24.69</td>\n",
       "      <td>46.72</td>\n",
       "      <td>80.60</td>\n",
       "      <td>21</td>\n",
       "      <td>92</td>\n",
       "      <td>5.82</td>\n",
       "      <td>SA</td>\n",
       "      <td>2020-08-29 21:37</td>\n",
       "    </tr>\n",
       "  </tbody>\n",
       "</table>\n",
       "</div>"
      ],
      "text/plain": [
       "        City    Lat     Lng  Max Temp  Humidity  Cloudiness  Wind Speed  \\\n",
       "25   huanren  41.26  125.37     83.75        56          77        2.17   \n",
       "55     nazas  25.23 -104.13     81.23        42         100        4.05   \n",
       "110    airai  -8.93  125.41     74.93        43          86        4.92   \n",
       "165   riyadh  24.69   46.72     80.60        21          92        5.82   \n",
       "\n",
       "    Country              Date  \n",
       "25       CN  2020-08-29 21:36  \n",
       "55       MX  2020-08-29 21:36  \n",
       "110      TL  2020-08-29 21:37  \n",
       "165      SA  2020-08-29 21:37  "
      ]
     },
     "execution_count": 253,
     "metadata": {},
     "output_type": "execute_result"
    }
   ],
   "source": [
    "ideal_weather_df = weather_df.loc[\n",
    "    (weather_df['Max Temp']<=85) & \n",
    "    (weather_df['Max Temp']>=70) & \n",
    "    (weather_df['Wind Speed']<=6) & \n",
    "    (weather_df['Humidity']<=65) &\n",
    "    (weather_df['Cloudiness']>=25)\n",
    "]\n",
    "     \n",
    "print(len(ideal_weather_df))\n",
    "ideal_weather_df"
   ]
  },
  {
   "cell_type": "code",
   "execution_count": 254,
   "metadata": {
    "scrolled": true
   },
   "outputs": [
    {
     "name": "stdout",
     "output_type": "stream",
     "text": [
      "No hotels listed within a 5000m radius of airai TL\n"
     ]
    },
    {
     "data": {
      "application/vnd.jupyter.widget-view+json": {
       "model_id": "e28819e23fb44ccf8017e94b0e99d543",
       "version_major": 2,
       "version_minor": 0
      },
      "text/plain": [
       "Figure(layout=FigureLayout(height='500px', width='600x'))"
      ]
     },
     "metadata": {},
     "output_type": "display_data"
    }
   ],
   "source": [
    "# locations = []\n",
    "hotels = []\n",
    "\n",
    "# for ea in (np.arange(0,len(ideal_weather_df))):\n",
    "#     locations.append(f\"{ideal_weather_df.iloc[ea,1]}, {ideal_weather_df.iloc[ea,2]}\")\n",
    "\n",
    "for ea in (np.arange(0,len(ideal_weather_df))):\n",
    "    city = ideal_weather_df.iloc[ea,0]\n",
    "    country = ideal_weather_df.iloc[ea,7]\n",
    "    location = f\"{ideal_weather_df.iloc[ea,1]}, {ideal_weather_df.iloc[ea,2]}\"\n",
    "    target_type = 'Hotel'\n",
    "    target_keyword = 'Hotel'\n",
    "    target_url = f\"https://maps.googleapis.com/maps/api/place/nearbysearch/json?location={location}&keyword={target_keyword}&type={target_type}&radius=5000&key={g_key}\"\n",
    "    try:\n",
    "        response = requests.get(target_url).json()\n",
    "        hotel_name = response['results'][0]['name']\n",
    "        lat = response['results'][0]['geometry']['location']['lat']\n",
    "        lng = response['results'][0]['geometry']['location']['lng']    \n",
    "        hotels.append({'city': city, 'country': country, 'hotel_name': hotel_name, 'hotel_lat': lat, 'hotel_lng': lng})\n",
    "        \n",
    "    except:\n",
    "        print(f\"No hotels listed within a 5000m radius of {city} {country}\")\n",
    "        \n",
    "hotels_df = pd.DataFrame(hotels)\n",
    "coords = hotels_df[['hotel_lat','hotel_lng']]\n",
    "names = []\n",
    "for ea in (np.arange(0,len(hotels_df))):\n",
    "    names.append(\"Hotel: \"+hotels_df.iloc[ea,2]+\", City: \" +hotels_df.iloc[ea,0]+\", Country: \"+hotels_df.iloc[ea,1])\n",
    "    \n",
    "markers = gmaps.marker_layer(coords,info_box_content=names, display_info_box=True)\n",
    "fig.add_layer(markers)\n",
    "\n",
    "fig"
   ]
  }
 ],
 "metadata": {
  "kernelspec": {
   "display_name": "Python 3",
   "language": "python",
   "name": "python3"
  },
  "language_info": {
   "codemirror_mode": {
    "name": "ipython",
    "version": 3
   },
   "file_extension": ".py",
   "mimetype": "text/x-python",
   "name": "python",
   "nbconvert_exporter": "python",
   "pygments_lexer": "ipython3",
   "version": "3.8.3"
  }
 },
 "nbformat": 4,
 "nbformat_minor": 4
}
